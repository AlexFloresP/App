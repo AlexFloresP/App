{
 "cells": [
  {
   "cell_type": "markdown",
   "metadata": {},
   "source": [
    "# Ciclos "
   ]
  },
  {
   "cell_type": "code",
   "execution_count": 1,
   "metadata": {},
   "outputs": [],
   "source": [
    "# Declara dos variables\n",
    "planetas=[]\n",
    "NuevoPlaneta=''"
   ]
  },
  {
   "cell_type": "code",
   "execution_count": 4,
   "metadata": {},
   "outputs": [],
   "source": [
    "while NuevoPlaneta.lower() != 'done':\n",
    "    if NuevoPlaneta:\n",
    "        planetas.append(NuevoPlaneta)\n",
    "    NuevoPlaneta = input('ingrese un planeta')\n",
    "planetas.append(NuevoPlaneta)"
   ]
  },
  {
   "cell_type": "code",
   "execution_count": 5,
   "metadata": {},
   "outputs": [
    {
     "name": "stdout",
     "output_type": "stream",
     "text": [
      "Mercurio\n",
      "done\n",
      "listo\n"
     ]
    }
   ],
   "source": [
    "for Planet in planetas:\n",
    "    print(Planet)\n",
    "print(\"listo\")"
   ]
  }
 ],
 "metadata": {
  "interpreter": {
   "hash": "95ff5ae5f45452bfe264405f825559073c9bf3b09c6a55be0d790a23ca7568be"
  },
  "kernelspec": {
   "display_name": "Python 3.9.10 64-bit (windows store)",
   "language": "python",
   "name": "python3"
  },
  "language_info": {
   "codemirror_mode": {
    "name": "ipython",
    "version": 3
   },
   "file_extension": ".py",
   "mimetype": "text/x-python",
   "name": "python",
   "nbconvert_exporter": "python",
   "pygments_lexer": "ipython3",
   "version": "3.9.10"
  },
  "orig_nbformat": 4
 },
 "nbformat": 4,
 "nbformat_minor": 2
}
