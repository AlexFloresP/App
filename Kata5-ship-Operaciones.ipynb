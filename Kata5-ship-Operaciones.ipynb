{
 "cells": [
  {
   "cell_type": "markdown",
   "metadata": {},
   "source": [
    "# Operadores"
   ]
  },
  {
   "cell_type": "code",
   "execution_count": 9,
   "metadata": {},
   "outputs": [
    {
     "name": "stdout",
     "output_type": "stream",
     "text": [
      "Distancia entre la tierra y jupiter: 628949330 en Km\n",
      "Distancia entre la tierra y jupiter: 390577533.93 en Millas\n"
     ]
    }
   ],
   "source": [
    "tierra=149597870 #km\n",
    "jupiter=778547200 #Km\n",
    "\n",
    "distanciaKM=jupiter-tierra\n",
    "print(\"Distancia entre la tierra y jupiter: \"+ str(distanciaKM)+ \" en Km\")\n",
    "distanciaM=distanciaKM * .621\n",
    "print(\"Distancia entre la tierra y jupiter: \"+ str(distanciaM)+ \" en Millas\")\n",
    "\n"
   ]
  },
  {
   "cell_type": "code",
   "execution_count": 11,
   "metadata": {},
   "outputs": [],
   "source": [
    "# Input\n",
    "Valor1=input(\"Ingresa la distancia entre el sol y el primer planeta\")\n",
    "Valor2=input(\"Ingresa la distancia entre el sol y el segundo planeta\")"
   ]
  },
  {
   "cell_type": "code",
   "execution_count": 12,
   "metadata": {},
   "outputs": [],
   "source": [
    "Num1=int(Valor1)\n",
    "num2=int(Valor2)"
   ]
  },
  {
   "cell_type": "code",
   "execution_count": 13,
   "metadata": {},
   "outputs": [
    {
     "name": "stdout",
     "output_type": "stream",
     "text": [
      "Distancia entre el primer planeta y el segundo es: 50300000 en Km\n",
      "Distancia entre el primer planeta y el segundo es: 31236300.0 en Millas\n"
     ]
    }
   ],
   "source": [
    "DistanciaAbKm=num2-Num1\n",
    "print(\"Distancia entre el primer planeta y el segundo es: \"+ str(DistanciaAbKm)+ \" en Km\")\n",
    "DistanciaAbM=DistanciaAbKm*.621\n",
    "print(\"Distancia entre el primer planeta y el segundo es: \"+ str(DistanciaAbM)+ \" en Millas\")"
   ]
  }
 ],
 "metadata": {
  "interpreter": {
   "hash": "ed7841488d5c53c48d7e1ed8cdfd1df49697b2137a128af84f01e6cac2d78903"
  },
  "kernelspec": {
   "display_name": "Python 3.10.2 64-bit",
   "language": "python",
   "name": "python3"
  },
  "language_info": {
   "codemirror_mode": {
    "name": "ipython",
    "version": 3
   },
   "file_extension": ".py",
   "mimetype": "text/x-python",
   "name": "python",
   "nbconvert_exporter": "python",
   "pygments_lexer": "ipython3",
   "version": "3.9.10"
  },
  "orig_nbformat": 4
 },
 "nbformat": 4,
 "nbformat_minor": 2
}
