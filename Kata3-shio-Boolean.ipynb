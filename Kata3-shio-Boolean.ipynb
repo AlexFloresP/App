{
 "cells": [
  {
   "cell_type": "markdown",
   "metadata": {},
   "source": [
    "# Tip de práctica 1: Intenta ejecutarlo en un notebook."
   ]
  },
  {
   "cell_type": "code",
   "execution_count": null,
   "metadata": {},
   "outputs": [],
   "source": [
    "velocidadAsteroide = 62\n",
    "\n",
    "if velocidadAsteroide >= 25:\n",
    "    # statement to be run / instrucción a ejecutar\n",
    "\n",
    "    print(\"Advertencia se acerca un asteroide a una velocidad de: \" + str(velocidadAsteroide)+ \" Km/s\")\n",
    "else:\n",
    "    print(\"Sin novedad\")\n"
   ]
  },
  {
   "cell_type": "code",
   "execution_count": 16,
   "metadata": {},
   "outputs": [
    {
     "name": "stdout",
     "output_type": "stream",
     "text": [
      "Hay un rayo de luz que viaja 25 Km/s\n"
     ]
    }
   ],
   "source": [
    "velocidadAsteroide = 19\n",
    "\n",
    "if velocidadAsteroide >= 20:\n",
    "    # statement to be run / instrucción a ejecutar\n",
    "\n",
    "    print(\"Hay un rayo de luz que viaja \" + str(velocidadAsteroide)+ \" Km/s\")\n",
    "else:\n",
    "    print(\"Sin novedad\")\n"
   ]
  },
  {
   "cell_type": "code",
   "execution_count": 20,
   "metadata": {},
   "outputs": [
    {
     "name": "stdout",
     "output_type": "stream",
     "text": [
      "Advertencia se acerca un asteroide de 25 m de tamaño, a una velocidad de: 62 Km/s\n"
     ]
    }
   ],
   "source": [
    "velocidadAsteroide = 62\n",
    "tamanioAsteriode=25\n",
    "\n",
    "if tamanioAsteriode >=25 and tamanioAsteriode <=100 and velocidadAsteroide >= 25:\n",
    "    # statement to be run / instrucción a ejecutar\n",
    "\n",
    "    print(\"Advertencia se acerca un asteroide de \"+str(tamanioAsteriode) +\" m de tamaño, a una velocidad de: \" + str(velocidadAsteroide)+ \" Km/s\")\n",
    "elif tamanioAsteriode<=25 and velocidadAsteroide >=25:\n",
    "    print(\"Se aprecia ina luz que va a una velocidad de: \"+str(velocidadAsteroide)+ \" Km/s\")\n",
    "elif tamanioAsteriode<25 and velocidadAsteroide<25:\n",
    "    print(\"sin novedad\")\n",
    "else:\n",
    "    print(\"sin novedad\")"
   ]
  }
 ],
 "metadata": {
  "interpreter": {
   "hash": "95ff5ae5f45452bfe264405f825559073c9bf3b09c6a55be0d790a23ca7568be"
  },
  "kernelspec": {
   "display_name": "Python 3.9.10 64-bit (windows store)",
   "language": "python",
   "name": "python3"
  },
  "language_info": {
   "codemirror_mode": {
    "name": "ipython",
    "version": 3
   },
   "file_extension": ".py",
   "mimetype": "text/x-python",
   "name": "python",
   "nbconvert_exporter": "python",
   "pygments_lexer": "ipython3",
   "version": "3.9.10"
  },
  "orig_nbformat": 4
 },
 "nbformat": 4,
 "nbformat_minor": 2
}
