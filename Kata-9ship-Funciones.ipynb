{
 "cells": [
  {
   "cell_type": "markdown",
   "metadata": {},
   "source": [
    "# Funciones"
   ]
  },
  {
   "cell_type": "code",
   "execution_count": 7,
   "metadata": {},
   "outputs": [],
   "source": [
    "# Función para leer 3 tanques de combustible y muestre el promedio\n",
    "def tanques(tanque1,tanque2,tanque3):\n",
    "    promedio=(tanque1+tanque2+tanque3)/3\n",
    "    return(f\"\"\"El promedio es: {promedio}\"\"\")"
   ]
  },
  {
   "cell_type": "code",
   "execution_count": 8,
   "metadata": {},
   "outputs": [
    {
     "name": "stdout",
     "output_type": "stream",
     "text": [
      "El promedio es: 15.333333333333334\n"
     ]
    }
   ],
   "source": [
    "# Llamamos a la función que genera el reporte print(funcion(tanque1, tanque2, tanque3))\n",
    "print(tanques(12,10,24))"
   ]
  },
  {
   "cell_type": "code",
   "execution_count": 11,
   "metadata": {},
   "outputs": [
    {
     "data": {
      "text/plain": [
       "10.0"
      ]
     },
     "execution_count": 11,
     "metadata": {},
     "output_type": "execute_result"
    }
   ],
   "source": [
    "# Función promedio \n",
    "def promedio(valor):\n",
    "    total=sum(valor)\n",
    "    lista=len(valor)\n",
    "    return total/lista\n",
    "\n",
    "# Prueba\n",
    "promedio([10,10,10])\n",
    "\n"
   ]
  },
  {
   "cell_type": "code",
   "execution_count": 12,
   "metadata": {},
   "outputs": [
    {
     "name": "stdout",
     "output_type": "stream",
     "text": [
      "El promedio es: 10.0\n"
     ]
    }
   ],
   "source": [
    "# Actualiza la funcion\n",
    "def tanques(tanque1,tanque2,tanque3):\n",
    "    return(f\"\"\"El promedio es: {promedio([tanque1,tanque2,tanque3])}\"\"\")\n",
    "\n",
    "print(tanques(10,10,10))"
   ]
  },
  {
   "cell_type": "code",
   "execution_count": 13,
   "metadata": {},
   "outputs": [
    {
     "name": "stdout",
     "output_type": "stream",
     "text": [
      "\n",
      "    Destino:  Luna\n",
      "    Tiempo: 65 minutos\n",
      "    Combustible: 500000 galones\n",
      "    \n"
     ]
    }
   ],
   "source": [
    "# Función con un informe preciso de la misión. Considera hora de prelanzamiento, tiempo de vuelo, destino, tanque externo y tanque interno\n",
    "\n",
    "def reporte(prelanzamiento, tiempoVuelo, destino, tanqueExterno, tanqueInterno):\n",
    "    return f\"\"\"\n",
    "    Destino:  {destino}\n",
    "    Tiempo: {prelanzamiento + tiempoVuelo} minutos\n",
    "    Combustible: {tanqueExterno + tanqueInterno} galones\n",
    "    \"\"\"\n",
    "\n",
    "print(reporte(14, 51, \"Luna\", 200000, 300000))"
   ]
  },
  {
   "cell_type": "code",
   "execution_count": 20,
   "metadata": {},
   "outputs": [
    {
     "name": "stdout",
     "output_type": "stream",
     "text": [
      "\n",
      "    Destino luna\n",
      "    Tiempo: 65 minutos\n",
      "    Combustible: 500000\n",
      "    \n"
     ]
    }
   ],
   "source": [
    "def reporte(destino, *minutos, **reserva):\n",
    "    return f\"\"\"\n",
    "    Destino {destino}\n",
    "    Tiempo: {sum(minutos)} minutos\n",
    "    Combustible: {sum(reserva.values())}\n",
    "    \"\"\"\n",
    "\n",
    "print(reporte(\"luna\", 14, 51, main=300000, external=200000))"
   ]
  },
  {
   "cell_type": "code",
   "execution_count": 21,
   "metadata": {},
   "outputs": [
    {
     "name": "stdout",
     "output_type": "stream",
     "text": [
      "\n",
      "    Destino Luna\n",
      "    Tiempo: 66 minutos\n",
      "    Combustible: 500000\n",
      "    main tanque --> 300000 galones\n",
      "external tanque --> 200000 galones\n",
      "\n"
     ]
    }
   ],
   "source": [
    "# Escribe tu nueva función\n",
    "\n",
    "def reporte(destino, *minutos, **reserva):\n",
    "    Datos= f\"\"\"\n",
    "    Destino {destino}\n",
    "    Tiempo: {sum(minutos)} minutos\n",
    "    Combustible: {sum(reserva.values())}\n",
    "    \"\"\"\n",
    "\n",
    "    for tanquee, galones in reserva.items():\n",
    "        Datos += f\"{tanquee} tanque --> {galones} galones\\n\"\n",
    "    return Datos\n",
    "\n",
    "print(reporte(\"Luna\", 11, 55, main=300000, external=200000))"
   ]
  }
 ],
 "metadata": {
  "interpreter": {
   "hash": "ed7841488d5c53c48d7e1ed8cdfd1df49697b2137a128af84f01e6cac2d78903"
  },
  "kernelspec": {
   "display_name": "Python 3.10.2 64-bit",
   "language": "python",
   "name": "python3"
  },
  "language_info": {
   "codemirror_mode": {
    "name": "ipython",
    "version": 3
   },
   "file_extension": ".py",
   "mimetype": "text/x-python",
   "name": "python",
   "nbconvert_exporter": "python",
   "pygments_lexer": "ipython3",
   "version": "3.9.10"
  },
  "orig_nbformat": 4
 },
 "nbformat": 4,
 "nbformat_minor": 2
}
